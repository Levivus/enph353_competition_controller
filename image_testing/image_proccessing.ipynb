{
  "cells": [
    {
      "cell_type": "code",
      "execution_count": null,
      "metadata": {
        "id": "iESjga6Sfqju"
      },
      "outputs": [
        {
          "ename": "",
          "evalue": "",
          "output_type": "error",
          "traceback": [
            "\u001b[1;31mRunning cells with '/usr/bin/python3' requires the ipykernel package.\n",
            "\u001b[1;31mRun the following command to install 'ipykernel' into the Python environment. \n",
            "\u001b[1;31mCommand: '/usr/bin/python3 -m pip install ipykernel -U --user --force-reinstall'"
          ]
        }
      ],
      "source": [
        "import cv2\n",
        "import numpy as np\n",
        "import matplotlib.pyplot as plt"
      ]
    },
    {
      "cell_type": "code",
      "execution_count": null,
      "metadata": {},
      "outputs": [],
      "source": [
        "script_dir = os.path.dirname(os.path.abspath(__file__))\n",
        "image = cv2.imread(os.path.join(script_dir, 'driving_images', 'image_380.png'))\n",
        "# cv2.imshow('Original Image', image)\n",
        "\n",
        "\n",
        "def crop_to_floor(image):\n",
        "    # convert to HSV\n",
        "    hsv = cv2.cvtColor(image, cv2.COLOR_BGR2HSV)\n",
        "\n",
        "    lower_hsv = np.array([6,23,118])\n",
        "    upper_hsv = np.array([84,255,255])\n",
        "\n",
        "    # generate floor mask\n",
        "    floor_mask = cv2.inRange(hsv, lower_hsv, upper_hsv)\n",
        "\n",
        "    # clean up the mask\n",
        "    kernel = np.ones((3,3),np.uint8)\n",
        "    floor_mask = cv2.erode(floor_mask,kernel,iterations = 1)\n",
        "\n",
        "    # find the minimum y value and crop the image to that\n",
        "    nonzero_points = np.column_stack(np.where(floor_mask > 0))\n",
        "    min_y = np.min(nonzero_points[:, 0])\n",
        "    cropped_img = image[min_y:, :]\n",
        "\n",
        "    return cropped_img\n",
        "\n",
        "image = crop_to_floor(image)"
      ]
    }
  ],
  "metadata": {
    "colab": {
      "provenance": []
    },
    "kernelspec": {
      "display_name": "Python 3",
      "name": "python3"
    },
    "language_info": {
      "codemirror_mode": {
        "name": "ipython",
        "version": 3
      },
      "file_extension": ".py",
      "mimetype": "text/x-python",
      "name": "python",
      "nbconvert_exporter": "python",
      "pygments_lexer": "ipython3",
      "version": "3.8.10"
    }
  },
  "nbformat": 4,
  "nbformat_minor": 0
}
